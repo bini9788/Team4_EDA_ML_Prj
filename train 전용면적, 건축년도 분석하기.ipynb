{
 "cells": [
  {
   "cell_type": "code",
   "execution_count": 36,
   "id": "42accfce",
   "metadata": {},
   "outputs": [],
   "source": [
    "import pandas as pd\n",
    "import numpy as np\n",
    "import matplotlib.pyplot as plt\n",
    "%matplotlib inline\n",
    "\n",
    "#한글 컬럼명 출력\n",
    "from matplotlib import font_manager, rc\n",
    "font_path='C:\\Windows\\Fonts\\gulim.ttc'\n",
    "font=font_manager.FontProperties(fname=font_path).get_name()\n",
    "rc('font', family=font)"
   ]
  },
  {
   "cell_type": "code",
   "execution_count": 37,
   "id": "e8ca2cf8",
   "metadata": {},
   "outputs": [
    {
     "data": {
      "text/html": [
       "<div>\n",
       "<style scoped>\n",
       "    .dataframe tbody tr th:only-of-type {\n",
       "        vertical-align: middle;\n",
       "    }\n",
       "\n",
       "    .dataframe tbody tr th {\n",
       "        vertical-align: top;\n",
       "    }\n",
       "\n",
       "    .dataframe thead th {\n",
       "        text-align: right;\n",
       "    }\n",
       "</style>\n",
       "<table border=\"1\" class=\"dataframe\">\n",
       "  <thead>\n",
       "    <tr style=\"text-align: right;\">\n",
       "      <th></th>\n",
       "      <th>시군구</th>\n",
       "      <th>단지명</th>\n",
       "      <th>전용면적(㎡)</th>\n",
       "      <th>계약년월</th>\n",
       "      <th>거래금액(만원)</th>\n",
       "      <th>층</th>\n",
       "      <th>건축년도</th>\n",
       "      <th>도로명</th>\n",
       "    </tr>\n",
       "  </thead>\n",
       "  <tbody>\n",
       "    <tr>\n",
       "      <th>0</th>\n",
       "      <td>서울특별시 강남구 개포동</td>\n",
       "      <td>개포6차우성아파트1동~8동</td>\n",
       "      <td>79.97</td>\n",
       "      <td>201801</td>\n",
       "      <td>130000</td>\n",
       "      <td>4</td>\n",
       "      <td>1987</td>\n",
       "      <td>언주로 3</td>\n",
       "    </tr>\n",
       "    <tr>\n",
       "      <th>1</th>\n",
       "      <td>서울특별시 강남구 개포동</td>\n",
       "      <td>개포6차우성아파트1동~8동</td>\n",
       "      <td>79.97</td>\n",
       "      <td>201801</td>\n",
       "      <td>117000</td>\n",
       "      <td>2</td>\n",
       "      <td>1987</td>\n",
       "      <td>언주로 3</td>\n",
       "    </tr>\n",
       "    <tr>\n",
       "      <th>2</th>\n",
       "      <td>서울특별시 강남구 개포동</td>\n",
       "      <td>개포6차우성아파트1동~8동</td>\n",
       "      <td>79.97</td>\n",
       "      <td>201801</td>\n",
       "      <td>130000</td>\n",
       "      <td>1</td>\n",
       "      <td>1987</td>\n",
       "      <td>언주로 3</td>\n",
       "    </tr>\n",
       "    <tr>\n",
       "      <th>3</th>\n",
       "      <td>서울특별시 강남구 개포동</td>\n",
       "      <td>개포6차우성아파트1동~8동</td>\n",
       "      <td>79.97</td>\n",
       "      <td>201803</td>\n",
       "      <td>139500</td>\n",
       "      <td>2</td>\n",
       "      <td>1987</td>\n",
       "      <td>언주로 3</td>\n",
       "    </tr>\n",
       "    <tr>\n",
       "      <th>4</th>\n",
       "      <td>서울특별시 강남구 개포동</td>\n",
       "      <td>개포6차우성아파트1동~8동</td>\n",
       "      <td>54.98</td>\n",
       "      <td>201804</td>\n",
       "      <td>107500</td>\n",
       "      <td>5</td>\n",
       "      <td>1987</td>\n",
       "      <td>언주로 3</td>\n",
       "    </tr>\n",
       "    <tr>\n",
       "      <th>...</th>\n",
       "      <td>...</td>\n",
       "      <td>...</td>\n",
       "      <td>...</td>\n",
       "      <td>...</td>\n",
       "      <td>...</td>\n",
       "      <td>...</td>\n",
       "      <td>...</td>\n",
       "      <td>...</td>\n",
       "    </tr>\n",
       "    <tr>\n",
       "      <th>240916</th>\n",
       "      <td>서울특별시 중랑구 중화동</td>\n",
       "      <td>한영(104)</td>\n",
       "      <td>67.57</td>\n",
       "      <td>202008</td>\n",
       "      <td>26000</td>\n",
       "      <td>2</td>\n",
       "      <td>2003</td>\n",
       "      <td>동일로144길 74</td>\n",
       "    </tr>\n",
       "    <tr>\n",
       "      <th>240917</th>\n",
       "      <td>서울특별시 중랑구 중화동</td>\n",
       "      <td>현대휴앤미</td>\n",
       "      <td>95.94</td>\n",
       "      <td>202007</td>\n",
       "      <td>44000</td>\n",
       "      <td>6</td>\n",
       "      <td>2007</td>\n",
       "      <td>봉화산로27가길 23</td>\n",
       "    </tr>\n",
       "    <tr>\n",
       "      <th>240918</th>\n",
       "      <td>서울특별시 중랑구 중화동</td>\n",
       "      <td>현대휴앤미</td>\n",
       "      <td>100.17</td>\n",
       "      <td>202012</td>\n",
       "      <td>54800</td>\n",
       "      <td>5</td>\n",
       "      <td>2007</td>\n",
       "      <td>봉화산로27가길 23</td>\n",
       "    </tr>\n",
       "    <tr>\n",
       "      <th>240919</th>\n",
       "      <td>서울특별시 중랑구 중화동</td>\n",
       "      <td>현대휴앤미(102동)</td>\n",
       "      <td>77.71</td>\n",
       "      <td>202009</td>\n",
       "      <td>40000</td>\n",
       "      <td>5</td>\n",
       "      <td>2007</td>\n",
       "      <td>봉화산로27가길 19</td>\n",
       "    </tr>\n",
       "    <tr>\n",
       "      <th>240920</th>\n",
       "      <td>서울특별시 중랑구 중화동</td>\n",
       "      <td>현대휴앤미(102동)</td>\n",
       "      <td>77.71</td>\n",
       "      <td>202009</td>\n",
       "      <td>40000</td>\n",
       "      <td>5</td>\n",
       "      <td>2007</td>\n",
       "      <td>봉화산로27가길 19</td>\n",
       "    </tr>\n",
       "  </tbody>\n",
       "</table>\n",
       "<p>240921 rows × 8 columns</p>\n",
       "</div>"
      ],
      "text/plain": [
       "                  시군구             단지명  전용면적(㎡)    계약년월  거래금액(만원)  층  건축년도  \\\n",
       "0       서울특별시 강남구 개포동  개포6차우성아파트1동~8동    79.97  201801    130000  4  1987   \n",
       "1       서울특별시 강남구 개포동  개포6차우성아파트1동~8동    79.97  201801    117000  2  1987   \n",
       "2       서울특별시 강남구 개포동  개포6차우성아파트1동~8동    79.97  201801    130000  1  1987   \n",
       "3       서울특별시 강남구 개포동  개포6차우성아파트1동~8동    79.97  201803    139500  2  1987   \n",
       "4       서울특별시 강남구 개포동  개포6차우성아파트1동~8동    54.98  201804    107500  5  1987   \n",
       "...               ...             ...      ...     ...       ... ..   ...   \n",
       "240916  서울특별시 중랑구 중화동         한영(104)    67.57  202008     26000  2  2003   \n",
       "240917  서울특별시 중랑구 중화동           현대휴앤미    95.94  202007     44000  6  2007   \n",
       "240918  서울특별시 중랑구 중화동           현대휴앤미   100.17  202012     54800  5  2007   \n",
       "240919  서울특별시 중랑구 중화동     현대휴앤미(102동)    77.71  202009     40000  5  2007   \n",
       "240920  서울특별시 중랑구 중화동     현대휴앤미(102동)    77.71  202009     40000  5  2007   \n",
       "\n",
       "                도로명  \n",
       "0             언주로 3  \n",
       "1             언주로 3  \n",
       "2             언주로 3  \n",
       "3             언주로 3  \n",
       "4             언주로 3  \n",
       "...             ...  \n",
       "240916   동일로144길 74  \n",
       "240917  봉화산로27가길 23  \n",
       "240918  봉화산로27가길 23  \n",
       "240919  봉화산로27가길 19  \n",
       "240920  봉화산로27가길 19  \n",
       "\n",
       "[240921 rows x 8 columns]"
      ]
     },
     "execution_count": 37,
     "metadata": {},
     "output_type": "execute_result"
    }
   ],
   "source": [
    "train=pd.read_csv('train_data.csv', encoding='CP949')\n",
    "train"
   ]
  },
  {
   "cell_type": "markdown",
   "id": "6a6b5c81",
   "metadata": {},
   "source": [
    "# train_data 정보 탐색"
   ]
  },
  {
   "cell_type": "code",
   "execution_count": 3,
   "id": "3e74128c",
   "metadata": {},
   "outputs": [
    {
     "data": {
      "text/plain": [
       "(240921, 8)"
      ]
     },
     "execution_count": 3,
     "metadata": {},
     "output_type": "execute_result"
    }
   ],
   "source": [
    "train.shape"
   ]
  },
  {
   "cell_type": "code",
   "execution_count": 5,
   "id": "692b703e",
   "metadata": {},
   "outputs": [
    {
     "name": "stdout",
     "output_type": "stream",
     "text": [
      "<class 'pandas.core.frame.DataFrame'>\n",
      "RangeIndex: 240921 entries, 0 to 240920\n",
      "Data columns (total 8 columns):\n",
      " #   Column    Non-Null Count   Dtype  \n",
      "---  ------    --------------   -----  \n",
      " 0   시군구       240921 non-null  object \n",
      " 1   단지명       240921 non-null  object \n",
      " 2   전용면적(㎡)   240921 non-null  float64\n",
      " 3   계약년월      240921 non-null  int64  \n",
      " 4   거래금액(만원)  240921 non-null  int64  \n",
      " 5   층         240921 non-null  int64  \n",
      " 6   건축년도      240921 non-null  int64  \n",
      " 7   도로명       240921 non-null  object \n",
      "dtypes: float64(1), int64(4), object(3)\n",
      "memory usage: 14.7+ MB\n"
     ]
    }
   ],
   "source": [
    "train.info()"
   ]
  },
  {
   "cell_type": "code",
   "execution_count": 6,
   "id": "38a960dd",
   "metadata": {
    "scrolled": true
   },
   "outputs": [
    {
     "data": {
      "text/html": [
       "<div>\n",
       "<style scoped>\n",
       "    .dataframe tbody tr th:only-of-type {\n",
       "        vertical-align: middle;\n",
       "    }\n",
       "\n",
       "    .dataframe tbody tr th {\n",
       "        vertical-align: top;\n",
       "    }\n",
       "\n",
       "    .dataframe thead th {\n",
       "        text-align: right;\n",
       "    }\n",
       "</style>\n",
       "<table border=\"1\" class=\"dataframe\">\n",
       "  <thead>\n",
       "    <tr style=\"text-align: right;\">\n",
       "      <th></th>\n",
       "      <th>전용면적(㎡)</th>\n",
       "      <th>계약년월</th>\n",
       "      <th>거래금액(만원)</th>\n",
       "      <th>층</th>\n",
       "      <th>건축년도</th>\n",
       "    </tr>\n",
       "  </thead>\n",
       "  <tbody>\n",
       "    <tr>\n",
       "      <th>count</th>\n",
       "      <td>240921.000000</td>\n",
       "      <td>240921.000000</td>\n",
       "      <td>240921.000000</td>\n",
       "      <td>240921.000000</td>\n",
       "      <td>240921.000000</td>\n",
       "    </tr>\n",
       "    <tr>\n",
       "      <th>mean</th>\n",
       "      <td>77.932687</td>\n",
       "      <td>201907.760590</td>\n",
       "      <td>77450.865790</td>\n",
       "      <td>9.117192</td>\n",
       "      <td>2000.225377</td>\n",
       "    </tr>\n",
       "    <tr>\n",
       "      <th>std</th>\n",
       "      <td>30.414776</td>\n",
       "      <td>83.470399</td>\n",
       "      <td>54710.422008</td>\n",
       "      <td>6.167072</td>\n",
       "      <td>9.667101</td>\n",
       "    </tr>\n",
       "    <tr>\n",
       "      <th>min</th>\n",
       "      <td>10.020000</td>\n",
       "      <td>201801.000000</td>\n",
       "      <td>5400.000000</td>\n",
       "      <td>-3.000000</td>\n",
       "      <td>1961.000000</td>\n",
       "    </tr>\n",
       "    <tr>\n",
       "      <th>25%</th>\n",
       "      <td>59.720000</td>\n",
       "      <td>201808.000000</td>\n",
       "      <td>42800.000000</td>\n",
       "      <td>4.000000</td>\n",
       "      <td>1994.000000</td>\n",
       "    </tr>\n",
       "    <tr>\n",
       "      <th>50%</th>\n",
       "      <td>83.420000</td>\n",
       "      <td>201909.000000</td>\n",
       "      <td>63000.000000</td>\n",
       "      <td>8.000000</td>\n",
       "      <td>2001.000000</td>\n",
       "    </tr>\n",
       "    <tr>\n",
       "      <th>75%</th>\n",
       "      <td>84.970000</td>\n",
       "      <td>202005.000000</td>\n",
       "      <td>92000.000000</td>\n",
       "      <td>13.000000</td>\n",
       "      <td>2007.000000</td>\n",
       "    </tr>\n",
       "    <tr>\n",
       "      <th>max</th>\n",
       "      <td>395.060000</td>\n",
       "      <td>202012.000000</td>\n",
       "      <td>840000.000000</td>\n",
       "      <td>69.000000</td>\n",
       "      <td>2021.000000</td>\n",
       "    </tr>\n",
       "  </tbody>\n",
       "</table>\n",
       "</div>"
      ],
      "text/plain": [
       "             전용면적(㎡)           계약년월       거래금액(만원)              층  \\\n",
       "count  240921.000000  240921.000000  240921.000000  240921.000000   \n",
       "mean       77.932687  201907.760590   77450.865790       9.117192   \n",
       "std        30.414776      83.470399   54710.422008       6.167072   \n",
       "min        10.020000  201801.000000    5400.000000      -3.000000   \n",
       "25%        59.720000  201808.000000   42800.000000       4.000000   \n",
       "50%        83.420000  201909.000000   63000.000000       8.000000   \n",
       "75%        84.970000  202005.000000   92000.000000      13.000000   \n",
       "max       395.060000  202012.000000  840000.000000      69.000000   \n",
       "\n",
       "                건축년도  \n",
       "count  240921.000000  \n",
       "mean     2000.225377  \n",
       "std         9.667101  \n",
       "min      1961.000000  \n",
       "25%      1994.000000  \n",
       "50%      2001.000000  \n",
       "75%      2007.000000  \n",
       "max      2021.000000  "
      ]
     },
     "execution_count": 6,
     "metadata": {},
     "output_type": "execute_result"
    }
   ],
   "source": [
    "train.describe()"
   ]
  },
  {
   "cell_type": "markdown",
   "id": "135f9525",
   "metadata": {},
   "source": [
    "## 결측치 찾기"
   ]
  },
  {
   "cell_type": "code",
   "execution_count": 71,
   "id": "4322a183",
   "metadata": {
    "scrolled": true
   },
   "outputs": [
    {
     "data": {
      "image/png": "[encoded data removed]",
      "text/plain": [
       "<Figure size 1800x720 with 2 Axes>"
      ]
     },
     "metadata": {
      "needs_background": "light"
     },
     "output_type": "display_data"
    }
   ],
   "source": [
    "import missingno\n",
    "missingno.matrix(train)\n",
    "plt.show()\n",
    "# 결론 : 결측치는 없다."
   ]
  },
  {
   "cell_type": "markdown",
   "id": "39fb1913",
   "metadata": {},
   "source": [
    "## 건축년도"
   ]
  },
  {
   "cell_type": "code",
   "execution_count": 15,
   "id": "42db39b6",
   "metadata": {
    "scrolled": false
   },
   "outputs": [
    {
     "data": {
      "text/plain": [
       "count    240921.000000\n",
       "mean       2000.225377\n",
       "std           9.667101\n",
       "min        1961.000000\n",
       "25%        1994.000000\n",
       "50%        2001.000000\n",
       "75%        2007.000000\n",
       "max        2021.000000\n",
       "Name: 건축년도, dtype: float64"
      ]
     },
     "execution_count": 15,
     "metadata": {},
     "output_type": "execute_result"
    }
   ],
   "source": [
    "train['건축년도'].describe(include='all')"
   ]
  },
  {
   "cell_type": "markdown",
   "id": "1faa3054",
   "metadata": {},
   "source": [
    "##### 건축년도가 2021년이지만 계약년월이 19년, 20년도에 분포한 것으로 보아 분양 아파트 매매 건수"
   ]
  },
  {
   "cell_type": "markdown",
   "id": "6083e9af",
   "metadata": {},
   "source": [
    "## 빈도수"
   ]
  },
  {
   "cell_type": "markdown",
   "id": "f3200f1f",
   "metadata": {},
   "source": [
    "### 서울 아파트는 언제 많이 완공 되었을까?"
   ]
  },
  {
   "cell_type": "code",
   "execution_count": 135,
   "id": "9acdc0c8",
   "metadata": {
    "scrolled": true
   },
   "outputs": [
    {
     "data": {
      "text/plain": [
       "2004    13400\n",
       "2003    13111\n",
       "1999    12483\n",
       "2000    11935\n",
       "1988    11635\n",
       "2005     9452\n",
       "1998     9302\n",
       "1997     8704\n",
       "2001     8454\n",
       "2002     8185\n",
       "2008     8071\n",
       "2006     6807\n",
       "1996     6706\n",
       "1993     6531\n",
       "1992     6389\n",
       "2007     5913\n",
       "2014     5905\n",
       "1995     5873\n",
       "1994     5392\n",
       "1987     5311\n",
       "2009     5252\n",
       "2010     5252\n",
       "2011     5236\n",
       "1989     4720\n",
       "1986     4699\n",
       "2016     4530\n",
       "2012     4241\n",
       "2013     4115\n",
       "2015     3660\n",
       "1991     3354\n",
       "1990     3212\n",
       "2018     3031\n",
       "2017     2782\n",
       "2019     2531\n",
       "1983     1960\n",
       "1984     1813\n",
       "1985     1588\n",
       "1978     1325\n",
       "2020     1179\n",
       "1982     1106\n",
       "1979     1020\n",
       "1981      822\n",
       "1976      614\n",
       "1974      594\n",
       "1980      583\n",
       "1971      473\n",
       "1975      467\n",
       "1977      452\n",
       "1973      219\n",
       "1970      179\n",
       "1972      139\n",
       "1969      123\n",
       "1968       46\n",
       "1961       17\n",
       "1966       17\n",
       "2021        6\n",
       "1965        3\n",
       "1967        2\n",
       "Name: 건축년도, dtype: int64"
      ]
     },
     "execution_count": 135,
     "metadata": {},
     "output_type": "execute_result"
    }
   ],
   "source": [
    "train['건축년도'].value_counts()"
   ]
  },
  {
   "cell_type": "code",
   "execution_count": 143,
   "id": "475e1e83",
   "metadata": {},
   "outputs": [
    {
     "data": {
      "text/plain": [
       "<AxesSubplot:>"
      ]
     },
     "execution_count": 143,
     "metadata": {},
     "output_type": "execute_result"
    },
    {
     "data": {
      "image/png": "[encoded data removed]",
      "text/plain": [
       "<Figure size 1440x2160 with 1 Axes>"
      ]
     },
     "metadata": {
      "needs_background": "light"
     },
     "output_type": "display_data"
    }
   ],
   "source": [
    "plt.figure(figsize=(20,30))\n",
    "train['건축년도'].value_counts().plot.barh()"
   ]
  },
  {
   "cell_type": "markdown",
   "id": "44f7d449",
   "metadata": {},
   "source": [
    "## 이상치 찾기"
   ]
  },
  {
   "cell_type": "code",
   "execution_count": 7,
   "id": "b656b2df",
   "metadata": {},
   "outputs": [],
   "source": [
    "import scipy.stats as ss\n",
    "import matplotlib.pyplot as plt\n",
    "import seaborn as sns"
   ]
  },
  {
   "cell_type": "code",
   "execution_count": 8,
   "id": "45d77133",
   "metadata": {},
   "outputs": [
    {
     "data": {
      "image/png": "[encoded data removed]",
      "text/plain": [
       "<Figure size 432x288 with 1 Axes>"
      ]
     },
     "metadata": {
      "needs_background": "light"
     },
     "output_type": "display_data"
    }
   ],
   "source": [
    "#boxplot으로 이상치 분포도 확인하기\n",
    "plt.figure()\n",
    "sns.boxplot(data=train['건축년도'], color='red')\n",
    "plt.show()"
   ]
  },
  {
   "cell_type": "code",
   "execution_count": 10,
   "id": "e243a770",
   "metadata": {},
   "outputs": [
    {
     "data": {
      "text/plain": [
       "13.0"
      ]
     },
     "execution_count": 10,
     "metadata": {},
     "output_type": "execute_result"
    }
   ],
   "source": [
    "#IQR을 적용하기 위해 q1, q3를 quantilte함수를 이용해 찾아내기.\n",
    "q1=train['건축년도'].quantile(0.25)\n",
    "q3=train['건축년도'].quantile(0.75)\n",
    "IQR=q3-q1\n",
    "IQR"
   ]
  },
  {
   "cell_type": "code",
   "execution_count": 50,
   "id": "64acfc53",
   "metadata": {
    "scrolled": false
   },
   "outputs": [
    {
     "data": {
      "text/html": [
       "<div>\n",
       "<style scoped>\n",
       "    .dataframe tbody tr th:only-of-type {\n",
       "        vertical-align: middle;\n",
       "    }\n",
       "\n",
       "    .dataframe tbody tr th {\n",
       "        vertical-align: top;\n",
       "    }\n",
       "\n",
       "    .dataframe thead th {\n",
       "        text-align: right;\n",
       "    }\n",
       "</style>\n",
       "<table border=\"1\" class=\"dataframe\">\n",
       "  <thead>\n",
       "    <tr style=\"text-align: right;\">\n",
       "      <th></th>\n",
       "      <th>시군구</th>\n",
       "      <th>단지명</th>\n",
       "      <th>전용면적</th>\n",
       "      <th>계약년월</th>\n",
       "      <th>거래금액(만원)</th>\n",
       "      <th>층</th>\n",
       "      <th>건축년도</th>\n",
       "      <th>도로명</th>\n",
       "      <th>전용면적_log</th>\n",
       "    </tr>\n",
       "  </thead>\n",
       "  <tbody>\n",
       "    <tr>\n",
       "      <th>178538</th>\n",
       "      <td>서울특별시 구로구 구로동</td>\n",
       "      <td>(718-18)삼성빌라트</td>\n",
       "      <td>54.16</td>\n",
       "      <td>202008</td>\n",
       "      <td>21000</td>\n",
       "      <td>5</td>\n",
       "      <td>1961</td>\n",
       "      <td>구로동로15길 27</td>\n",
       "      <td>4.010238</td>\n",
       "    </tr>\n",
       "    <tr>\n",
       "      <th>178557</th>\n",
       "      <td>서울특별시 구로구 구로동</td>\n",
       "      <td>(740-33)</td>\n",
       "      <td>55.63</td>\n",
       "      <td>202001</td>\n",
       "      <td>12000</td>\n",
       "      <td>4</td>\n",
       "      <td>1961</td>\n",
       "      <td>구로동로22길 42</td>\n",
       "      <td>4.036539</td>\n",
       "    </tr>\n",
       "    <tr>\n",
       "      <th>178731</th>\n",
       "      <td>서울특별시 구로구 구로동</td>\n",
       "      <td>(780-86)</td>\n",
       "      <td>35.55</td>\n",
       "      <td>202007</td>\n",
       "      <td>13500</td>\n",
       "      <td>2</td>\n",
       "      <td>1961</td>\n",
       "      <td>도림로12길 11</td>\n",
       "      <td>3.598681</td>\n",
       "    </tr>\n",
       "    <tr>\n",
       "      <th>178732</th>\n",
       "      <td>서울특별시 구로구 구로동</td>\n",
       "      <td>(780-86)</td>\n",
       "      <td>35.55</td>\n",
       "      <td>202011</td>\n",
       "      <td>13500</td>\n",
       "      <td>5</td>\n",
       "      <td>1961</td>\n",
       "      <td>도림로12길 11</td>\n",
       "      <td>3.598681</td>\n",
       "    </tr>\n",
       "    <tr>\n",
       "      <th>20513</th>\n",
       "      <td>서울특별시 구로구 구로동</td>\n",
       "      <td>(805-16)</td>\n",
       "      <td>60.60</td>\n",
       "      <td>201801</td>\n",
       "      <td>17500</td>\n",
       "      <td>5</td>\n",
       "      <td>1961</td>\n",
       "      <td>도림로3길 3-3</td>\n",
       "      <td>4.120662</td>\n",
       "    </tr>\n",
       "    <tr>\n",
       "      <th>...</th>\n",
       "      <td>...</td>\n",
       "      <td>...</td>\n",
       "      <td>...</td>\n",
       "      <td>...</td>\n",
       "      <td>...</td>\n",
       "      <td>...</td>\n",
       "      <td>...</td>\n",
       "      <td>...</td>\n",
       "      <td>...</td>\n",
       "    </tr>\n",
       "    <tr>\n",
       "      <th>72530</th>\n",
       "      <td>서울특별시 용산구 이촌동</td>\n",
       "      <td>빌라맨션</td>\n",
       "      <td>174.48</td>\n",
       "      <td>201801</td>\n",
       "      <td>138000</td>\n",
       "      <td>17</td>\n",
       "      <td>1974</td>\n",
       "      <td>이촌로 156</td>\n",
       "      <td>5.167525</td>\n",
       "    </tr>\n",
       "    <tr>\n",
       "      <th>72529</th>\n",
       "      <td>서울특별시 용산구 이촌동</td>\n",
       "      <td>빌라맨션</td>\n",
       "      <td>174.48</td>\n",
       "      <td>201801</td>\n",
       "      <td>125000</td>\n",
       "      <td>16</td>\n",
       "      <td>1974</td>\n",
       "      <td>이촌로 156</td>\n",
       "      <td>5.167525</td>\n",
       "    </tr>\n",
       "    <tr>\n",
       "      <th>72397</th>\n",
       "      <td>서울특별시 용산구 이촌동</td>\n",
       "      <td>노들</td>\n",
       "      <td>230.25</td>\n",
       "      <td>201809</td>\n",
       "      <td>137000</td>\n",
       "      <td>1</td>\n",
       "      <td>1974</td>\n",
       "      <td>이촌로64길 20</td>\n",
       "      <td>5.443499</td>\n",
       "    </tr>\n",
       "    <tr>\n",
       "      <th>72614</th>\n",
       "      <td>서울특별시 용산구 이촌동</td>\n",
       "      <td>점보</td>\n",
       "      <td>177.62</td>\n",
       "      <td>201802</td>\n",
       "      <td>119500</td>\n",
       "      <td>7</td>\n",
       "      <td>1974</td>\n",
       "      <td>이촌로88길 3</td>\n",
       "      <td>5.185261</td>\n",
       "    </tr>\n",
       "    <tr>\n",
       "      <th>2341</th>\n",
       "      <td>서울특별시 강남구 신사동</td>\n",
       "      <td>강남상가</td>\n",
       "      <td>92.36</td>\n",
       "      <td>201802</td>\n",
       "      <td>55000</td>\n",
       "      <td>9</td>\n",
       "      <td>1974</td>\n",
       "      <td>압구정로2길 46</td>\n",
       "      <td>4.536463</td>\n",
       "    </tr>\n",
       "  </tbody>\n",
       "</table>\n",
       "<p>1812 rows × 9 columns</p>\n",
       "</div>"
      ],
      "text/plain": [
       "                  시군구            단지명    전용면적    계약년월  거래금액(만원)   층  건축년도  \\\n",
       "178538  서울특별시 구로구 구로동  (718-18)삼성빌라트   54.16  202008     21000   5  1961   \n",
       "178557  서울특별시 구로구 구로동       (740-33)   55.63  202001     12000   4  1961   \n",
       "178731  서울특별시 구로구 구로동       (780-86)   35.55  202007     13500   2  1961   \n",
       "178732  서울특별시 구로구 구로동       (780-86)   35.55  202011     13500   5  1961   \n",
       "20513   서울특별시 구로구 구로동       (805-16)   60.60  201801     17500   5  1961   \n",
       "...               ...            ...     ...     ...       ...  ..   ...   \n",
       "72530   서울특별시 용산구 이촌동           빌라맨션  174.48  201801    138000  17  1974   \n",
       "72529   서울특별시 용산구 이촌동           빌라맨션  174.48  201801    125000  16  1974   \n",
       "72397   서울특별시 용산구 이촌동             노들  230.25  201809    137000   1  1974   \n",
       "72614   서울특별시 용산구 이촌동             점보  177.62  201802    119500   7  1974   \n",
       "2341    서울특별시 강남구 신사동           강남상가   92.36  201802     55000   9  1974   \n",
       "\n",
       "               도로명  전용면적_log  \n",
       "178538  구로동로15길 27  4.010238  \n",
       "178557  구로동로22길 42  4.036539  \n",
       "178731   도림로12길 11  3.598681  \n",
       "178732   도림로12길 11  3.598681  \n",
       "20513    도림로3길 3-3  4.120662  \n",
       "...            ...       ...  \n",
       "72530      이촌로 156  5.167525  \n",
       "72529      이촌로 156  5.167525  \n",
       "72397    이촌로64길 20  5.443499  \n",
       "72614     이촌로88길 3  5.185261  \n",
       "2341     압구정로2길 46  4.536463  \n",
       "\n",
       "[1812 rows x 9 columns]"
      ]
     },
     "execution_count": 50,
     "metadata": {},
     "output_type": "execute_result"
    }
   ],
   "source": [
    "#boxplot에서 아래쪽에 이상치가 분포해있었으므로 q1값을 이용해 분리 후 IQR_condition에 저장\n",
    "IQR_condition=train['건축년도']<q1-1.5*IQR\n",
    "#건축년도 오름차순 기준으로 이상치 데이터 확인하기\n",
    "train[IQR_condition].sort_values(by=['건축년도'], axis=0)"
   ]
  },
  {
   "cell_type": "markdown",
   "id": "79ade1dd",
   "metadata": {},
   "source": [
    "### 건축년도-분포도 확인"
   ]
  },
  {
   "cell_type": "code",
   "execution_count": 26,
   "id": "fbf057cb",
   "metadata": {},
   "outputs": [
    {
     "data": {
      "text/plain": [
       "<Figure size 432x288 with 0 Axes>"
      ]
     },
     "metadata": {},
     "output_type": "display_data"
    },
    {
     "data": {
      "image/png": "[encoded data removed]",
      "text/plain": [
       "<Figure size 360x360 with 1 Axes>"
      ]
     },
     "metadata": {
      "needs_background": "light"
     },
     "output_type": "display_data"
    }
   ],
   "source": [
    "plt.figure()\n",
    "sns.displot(train['건축년도'], bins=30)\n",
    "plt.xlabel('건축년도')\n",
    "plt.ylabel('count')\n",
    "plt.title('건축년도 분포도')\n",
    "plt.show()"
   ]
  },
  {
   "cell_type": "markdown",
   "id": "90ba5203",
   "metadata": {},
   "source": [
    "## 구축이냐 신축이냐에 따라 계약 건수 차이가 있을까?"
   ]
  },
  {
   "cell_type": "code",
   "execution_count": 11,
   "id": "cb8dfc85",
   "metadata": {},
   "outputs": [],
   "source": [
    "#계약년월 분리 - 건축년도와 연관이 있을까\n",
    "\n",
    "## 계약년월\n",
    "# 계약년도와 계약월 컬럼 생성(EDA)\n",
    "train['계약년도'] = train['계약년월'].map(lambda x : str(x)[:4])\n",
    "train['계약월'] = train['계약년월'].map(lambda x : int(str(x)[4:]))"
   ]
  },
  {
   "cell_type": "code",
   "execution_count": 12,
   "id": "b48c004f",
   "metadata": {},
   "outputs": [
    {
     "data": {
      "text/plain": [
       "<Figure size 1440x3600 with 0 Axes>"
      ]
     },
     "metadata": {},
     "output_type": "display_data"
    },
    {
     "data": {
      "image/png": "[encoded data removed]",
      "text/plain": [
       "<Figure size 432x288 with 1 Axes>"
      ]
     },
     "metadata": {
      "needs_background": "light"
     },
     "output_type": "display_data"
    }
   ],
   "source": [
    "plt.figure(figsize=(20,50))\n",
    "# train_years=train[['건축년도','계약년도','계약월']]\n",
    "train_years=train[['건축년도','계약년도']]\n",
    "# group_years=train_years.groupby(train_years['계약년도'])\n",
    "train_years.plot.scatter(x='건축년도',y='계약년도', c='red')\n",
    "plt.show()\n",
    "#건축년도를 기준으로 2018, 2019, 2020별로 계약월별 산점도 보여주기.\n",
    "#해결하자"
   ]
  },
  {
   "cell_type": "code",
   "execution_count": 53,
   "id": "d6f0daf7",
   "metadata": {},
   "outputs": [
    {
     "data": {
      "text/plain": [
       "Text(0, 0.5, '2020년도 계약월')"
      ]
     },
     "execution_count": 53,
     "metadata": {},
     "output_type": "execute_result"
    },
    {
     "data": {
      "image/png": "[encoded data removed]",
      "text/plain": [
       "<Figure size 432x288 with 1 Axes>"
      ]
     },
     "metadata": {
      "needs_background": "light"
     },
     "output_type": "display_data"
    }
   ],
   "source": [
    "#건축년도를 기준으로 2018, 2019, 2020별로 계약월별 산점도 보기.\n",
    "train_years.groupby('계약년도').get_group('2020').plot.scatter(x='건축년도',y='계약월')\n",
    "plt.ylabel('2020년도 계약월')"
   ]
  },
  {
   "cell_type": "code",
   "execution_count": 54,
   "id": "2011b606",
   "metadata": {},
   "outputs": [
    {
     "data": {
      "text/plain": [
       "Text(0, 0.5, '2019년도 계약월')"
      ]
     },
     "execution_count": 54,
     "metadata": {},
     "output_type": "execute_result"
    },
    {
     "data": {
      "image/png": "[encoded data removed]",
      "text/plain": [
       "<Figure size 432x288 with 1 Axes>"
      ]
     },
     "metadata": {
      "needs_background": "light"
     },
     "output_type": "display_data"
    }
   ],
   "source": [
    "train_years.groupby('계약년도').get_group('2019').plot.scatter(x='건축년도',y='계약월')\n",
    "plt.ylabel('2019년도 계약월')"
   ]
  },
  {
   "cell_type": "code",
   "execution_count": 73,
   "id": "73201bde",
   "metadata": {},
   "outputs": [
    {
     "data": {
      "text/plain": [
       "Text(0, 0.5, '2018년도 계약월')"
      ]
     },
     "execution_count": 73,
     "metadata": {},
     "output_type": "execute_result"
    },
    {
     "data": {
      "image/png": "[encoded data removed]",
      "text/plain": [
       "<Figure size 432x288 with 1 Axes>"
      ]
     },
     "metadata": {
      "needs_background": "light"
     },
     "output_type": "display_data"
    }
   ],
   "source": [
    "train_years.groupby('계약년도').get_group('2018').plot.scatter(x='건축년도',y='계약월')\n",
    "plt.ylabel('2018년도 계약월')"
   ]
  },
  {
   "cell_type": "markdown",
   "id": "497665bc",
   "metadata": {},
   "source": [
    "## 전용면적"
   ]
  },
  {
   "cell_type": "code",
   "execution_count": 39,
   "id": "b1c0427f",
   "metadata": {},
   "outputs": [],
   "source": [
    "train.rename(columns={'전용면적(㎡)':'전용면적'}, inplace=True)"
   ]
  },
  {
   "cell_type": "code",
   "execution_count": 40,
   "id": "4e9bb938",
   "metadata": {
    "scrolled": true
   },
   "outputs": [
    {
     "data": {
      "text/plain": [
       "count    240921.000000\n",
       "mean         77.932687\n",
       "std          30.414776\n",
       "min          10.020000\n",
       "25%          59.720000\n",
       "50%          83.420000\n",
       "75%          84.970000\n",
       "max         395.060000\n",
       "Name: 전용면적, dtype: float64"
      ]
     },
     "execution_count": 40,
     "metadata": {},
     "output_type": "execute_result"
    }
   ],
   "source": [
    "train['전용면적'].describe(include='all')"
   ]
  },
  {
   "cell_type": "code",
   "execution_count": 68,
   "id": "6ac279d9",
   "metadata": {},
   "outputs": [
    {
     "data": {
      "text/plain": [
       "65.105        1\n",
       "42.590        1\n",
       "26.665        1\n",
       "107.810       1\n",
       "191.020       1\n",
       "           ... \n",
       "59.990     3005\n",
       "84.990     4406\n",
       "84.970     4409\n",
       "84.980     4417\n",
       "84.960     4555\n",
       "Name: 전용면적, Length: 10829, dtype: int64"
      ]
     },
     "execution_count": 68,
     "metadata": {},
     "output_type": "execute_result"
    }
   ],
   "source": [
    "train['전용면적'].value_counts().sort_values()"
   ]
  },
  {
   "cell_type": "code",
   "execution_count": null,
   "id": "d9ceccb9",
   "metadata": {},
   "outputs": [
    {
     "data": {
      "text/plain": [
       "<AxesSubplot:>"
      ]
     },
     "execution_count": 81,
     "metadata": {},
     "output_type": "execute_result"
    }
   ],
   "source": [
    "plt.figure(figsize=(20,30))\n",
    "train['전용면적'].value_counts().plot.barh()"
   ]
  },
  {
   "cell_type": "markdown",
   "id": "d51b270e",
   "metadata": {},
   "source": [
    "## 이상치 찾기"
   ]
  },
  {
   "cell_type": "code",
   "execution_count": 118,
   "id": "8d3bbc8e",
   "metadata": {
    "scrolled": true
   },
   "outputs": [
    {
     "data": {
      "image/png": "[encoded data removed]",
      "text/plain": [
       "<Figure size 432x288 with 1 Axes>"
      ]
     },
     "metadata": {
      "needs_background": "light"
     },
     "output_type": "display_data"
    }
   ],
   "source": [
    "plt.figure()\n",
    "sns.boxplot(data=train['전용면적'], color='blue')\n",
    "plt.show()"
   ]
  },
  {
   "cell_type": "code",
   "execution_count": 43,
   "id": "763aee7c",
   "metadata": {},
   "outputs": [
    {
     "data": {
      "text/plain": [
       "1.176540579880904"
      ]
     },
     "execution_count": 43,
     "metadata": {},
     "output_type": "execute_result"
    }
   ],
   "source": [
    "#전용면적의 왜도\n",
    "train['전용면적'].skew()\n",
    "#왼쪽으로 많이 치우져져 있는 것을 알 수 있다."
   ]
  },
  {
   "cell_type": "code",
   "execution_count": 46,
   "id": "5b536abd",
   "metadata": {},
   "outputs": [
    {
     "data": {
      "text/plain": [
       "3.500887087964625"
      ]
     },
     "execution_count": 46,
     "metadata": {},
     "output_type": "execute_result"
    }
   ],
   "source": [
    "#전용면적의 첨도\n",
    "train['전용면적'].kurt()\n",
    "# 첨도값(K)이 3에 가까우면 산포도가 정규분포에 가깝다.\n",
    "# 3보다 작을 경우에는(K<3) 정규분포보다 더 완만하게 납작한 분포로 판단할 수 있으며,\n",
    "# 첨도값이 3보다 큰 양수이면(K>3) 산포는 정규분포보다 더 뾰족한 분포로 생각할 수 있다."
   ]
  },
  {
   "cell_type": "code",
   "execution_count": 47,
   "id": "55e2e289",
   "metadata": {},
   "outputs": [
    {
     "data": {
      "text/plain": [
       "<Figure size 432x288 with 0 Axes>"
      ]
     },
     "metadata": {},
     "output_type": "display_data"
    },
    {
     "data": {
      "image/png": "[encoded data removed]",
      "text/plain": [
       "<Figure size 360x360 with 1 Axes>"
      ]
     },
     "metadata": {
      "needs_background": "light"
     },
     "output_type": "display_data"
    }
   ],
   "source": [
    "#전용면적의 분포도가 한쪽으로 치우쳐짐\n",
    "plt.figure()\n",
    "sns.displot(train['전용면적'], bins=30)\n",
    "plt.xlabel('전용면적(Square meter)')\n",
    "plt.ylabel('count')\n",
    "plt.title('Distribution of Area')\n",
    "plt.show()"
   ]
  },
  {
   "cell_type": "code",
   "execution_count": 48,
   "id": "a1daf6a6",
   "metadata": {},
   "outputs": [
    {
     "data": {
      "text/html": [
       "<div>\n",
       "<style scoped>\n",
       "    .dataframe tbody tr th:only-of-type {\n",
       "        vertical-align: middle;\n",
       "    }\n",
       "\n",
       "    .dataframe tbody tr th {\n",
       "        vertical-align: top;\n",
       "    }\n",
       "\n",
       "    .dataframe thead th {\n",
       "        text-align: right;\n",
       "    }\n",
       "</style>\n",
       "<table border=\"1\" class=\"dataframe\">\n",
       "  <thead>\n",
       "    <tr style=\"text-align: right;\">\n",
       "      <th></th>\n",
       "      <th>시군구</th>\n",
       "      <th>단지명</th>\n",
       "      <th>전용면적</th>\n",
       "      <th>계약년월</th>\n",
       "      <th>거래금액(만원)</th>\n",
       "      <th>층</th>\n",
       "      <th>건축년도</th>\n",
       "      <th>도로명</th>\n",
       "      <th>전용면적_log</th>\n",
       "    </tr>\n",
       "  </thead>\n",
       "  <tbody>\n",
       "    <tr>\n",
       "      <th>0</th>\n",
       "      <td>서울특별시 강남구 개포동</td>\n",
       "      <td>개포6차우성아파트1동~8동</td>\n",
       "      <td>79.97</td>\n",
       "      <td>201801</td>\n",
       "      <td>130000</td>\n",
       "      <td>4</td>\n",
       "      <td>1987</td>\n",
       "      <td>언주로 3</td>\n",
       "      <td>4.394079</td>\n",
       "    </tr>\n",
       "    <tr>\n",
       "      <th>1</th>\n",
       "      <td>서울특별시 강남구 개포동</td>\n",
       "      <td>개포6차우성아파트1동~8동</td>\n",
       "      <td>79.97</td>\n",
       "      <td>201801</td>\n",
       "      <td>117000</td>\n",
       "      <td>2</td>\n",
       "      <td>1987</td>\n",
       "      <td>언주로 3</td>\n",
       "      <td>4.394079</td>\n",
       "    </tr>\n",
       "    <tr>\n",
       "      <th>2</th>\n",
       "      <td>서울특별시 강남구 개포동</td>\n",
       "      <td>개포6차우성아파트1동~8동</td>\n",
       "      <td>79.97</td>\n",
       "      <td>201801</td>\n",
       "      <td>130000</td>\n",
       "      <td>1</td>\n",
       "      <td>1987</td>\n",
       "      <td>언주로 3</td>\n",
       "      <td>4.394079</td>\n",
       "    </tr>\n",
       "    <tr>\n",
       "      <th>3</th>\n",
       "      <td>서울특별시 강남구 개포동</td>\n",
       "      <td>개포6차우성아파트1동~8동</td>\n",
       "      <td>79.97</td>\n",
       "      <td>201803</td>\n",
       "      <td>139500</td>\n",
       "      <td>2</td>\n",
       "      <td>1987</td>\n",
       "      <td>언주로 3</td>\n",
       "      <td>4.394079</td>\n",
       "    </tr>\n",
       "    <tr>\n",
       "      <th>4</th>\n",
       "      <td>서울특별시 강남구 개포동</td>\n",
       "      <td>개포6차우성아파트1동~8동</td>\n",
       "      <td>54.98</td>\n",
       "      <td>201804</td>\n",
       "      <td>107500</td>\n",
       "      <td>5</td>\n",
       "      <td>1987</td>\n",
       "      <td>언주로 3</td>\n",
       "      <td>4.024994</td>\n",
       "    </tr>\n",
       "    <tr>\n",
       "      <th>...</th>\n",
       "      <td>...</td>\n",
       "      <td>...</td>\n",
       "      <td>...</td>\n",
       "      <td>...</td>\n",
       "      <td>...</td>\n",
       "      <td>...</td>\n",
       "      <td>...</td>\n",
       "      <td>...</td>\n",
       "      <td>...</td>\n",
       "    </tr>\n",
       "    <tr>\n",
       "      <th>240916</th>\n",
       "      <td>서울특별시 중랑구 중화동</td>\n",
       "      <td>한영(104)</td>\n",
       "      <td>67.57</td>\n",
       "      <td>202008</td>\n",
       "      <td>26000</td>\n",
       "      <td>2</td>\n",
       "      <td>2003</td>\n",
       "      <td>동일로144길 74</td>\n",
       "      <td>4.227855</td>\n",
       "    </tr>\n",
       "    <tr>\n",
       "      <th>240917</th>\n",
       "      <td>서울특별시 중랑구 중화동</td>\n",
       "      <td>현대휴앤미</td>\n",
       "      <td>95.94</td>\n",
       "      <td>202007</td>\n",
       "      <td>44000</td>\n",
       "      <td>6</td>\n",
       "      <td>2007</td>\n",
       "      <td>봉화산로27가길 23</td>\n",
       "      <td>4.574092</td>\n",
       "    </tr>\n",
       "    <tr>\n",
       "      <th>240918</th>\n",
       "      <td>서울특별시 중랑구 중화동</td>\n",
       "      <td>현대휴앤미</td>\n",
       "      <td>100.17</td>\n",
       "      <td>202012</td>\n",
       "      <td>54800</td>\n",
       "      <td>5</td>\n",
       "      <td>2007</td>\n",
       "      <td>봉화산로27가길 23</td>\n",
       "      <td>4.616802</td>\n",
       "    </tr>\n",
       "    <tr>\n",
       "      <th>240919</th>\n",
       "      <td>서울특별시 중랑구 중화동</td>\n",
       "      <td>현대휴앤미(102동)</td>\n",
       "      <td>77.71</td>\n",
       "      <td>202009</td>\n",
       "      <td>40000</td>\n",
       "      <td>5</td>\n",
       "      <td>2007</td>\n",
       "      <td>봉화산로27가길 19</td>\n",
       "      <td>4.365770</td>\n",
       "    </tr>\n",
       "    <tr>\n",
       "      <th>240920</th>\n",
       "      <td>서울특별시 중랑구 중화동</td>\n",
       "      <td>현대휴앤미(102동)</td>\n",
       "      <td>77.71</td>\n",
       "      <td>202009</td>\n",
       "      <td>40000</td>\n",
       "      <td>5</td>\n",
       "      <td>2007</td>\n",
       "      <td>봉화산로27가길 19</td>\n",
       "      <td>4.365770</td>\n",
       "    </tr>\n",
       "  </tbody>\n",
       "</table>\n",
       "<p>240921 rows × 9 columns</p>\n",
       "</div>"
      ],
      "text/plain": [
       "                  시군구             단지명    전용면적    계약년월  거래금액(만원)  층  건축년도  \\\n",
       "0       서울특별시 강남구 개포동  개포6차우성아파트1동~8동   79.97  201801    130000  4  1987   \n",
       "1       서울특별시 강남구 개포동  개포6차우성아파트1동~8동   79.97  201801    117000  2  1987   \n",
       "2       서울특별시 강남구 개포동  개포6차우성아파트1동~8동   79.97  201801    130000  1  1987   \n",
       "3       서울특별시 강남구 개포동  개포6차우성아파트1동~8동   79.97  201803    139500  2  1987   \n",
       "4       서울특별시 강남구 개포동  개포6차우성아파트1동~8동   54.98  201804    107500  5  1987   \n",
       "...               ...             ...     ...     ...       ... ..   ...   \n",
       "240916  서울특별시 중랑구 중화동         한영(104)   67.57  202008     26000  2  2003   \n",
       "240917  서울특별시 중랑구 중화동           현대휴앤미   95.94  202007     44000  6  2007   \n",
       "240918  서울특별시 중랑구 중화동           현대휴앤미  100.17  202012     54800  5  2007   \n",
       "240919  서울특별시 중랑구 중화동     현대휴앤미(102동)   77.71  202009     40000  5  2007   \n",
       "240920  서울특별시 중랑구 중화동     현대휴앤미(102동)   77.71  202009     40000  5  2007   \n",
       "\n",
       "                도로명  전용면적_log  \n",
       "0             언주로 3  4.394079  \n",
       "1             언주로 3  4.394079  \n",
       "2             언주로 3  4.394079  \n",
       "3             언주로 3  4.394079  \n",
       "4             언주로 3  4.024994  \n",
       "...             ...       ...  \n",
       "240916   동일로144길 74  4.227855  \n",
       "240917  봉화산로27가길 23  4.574092  \n",
       "240918  봉화산로27가길 23  4.616802  \n",
       "240919  봉화산로27가길 19  4.365770  \n",
       "240920  봉화산로27가길 19  4.365770  \n",
       "\n",
       "[240921 rows x 9 columns]"
      ]
     },
     "execution_count": 48,
     "metadata": {},
     "output_type": "execute_result"
    }
   ],
   "source": [
    "train['전용면적_log']=np.log1p(train['전용면적'])\n",
    "area=train['전용면적']\n",
    "train"
   ]
  },
  {
   "cell_type": "code",
   "execution_count": 49,
   "id": "c3bb5d03",
   "metadata": {},
   "outputs": [
    {
     "data": {
      "image/png": "[encoded data removed]",
      "text/plain": [
       "<Figure size 864x432 with 2 Axes>"
      ]
     },
     "metadata": {
      "needs_background": "light"
     },
     "output_type": "display_data"
    }
   ],
   "source": [
    "#함께 그래프 그리기\n",
    "f, (ax1, ax2) = plt.subplots(1,2,figsize=(12,6))\n",
    "\n",
    "ax1.hist(area, bins=30)\n",
    "ax1.set_title('전용면적 분포')\n",
    "ax1.set_xlabel('전용면적')\n",
    "\n",
    "ax2.hist(train['전용면적_log'], bins=30)\n",
    "ax2.set_title('전용면적_log 분포')\n",
    "ax2.set_xlabel('전용면적')\n",
    "\n",
    "plt.show()"
   ]
  },
  {
   "cell_type": "code",
   "execution_count": 62,
   "id": "6fbcde8f",
   "metadata": {},
   "outputs": [
    {
     "data": {
      "image/png": "[encoded data removed]",
      "text/plain": [
       "<Figure size 864x432 with 2 Axes>"
      ]
     },
     "metadata": {
      "needs_background": "light"
     },
     "output_type": "display_data"
    }
   ],
   "source": [
    "#log 적용한 전용면적 컬럼 이상치 확인하기\n",
    "fig, axes = plt.subplots(1,2,figsize=(12,6))\n",
    "\n",
    "sns.boxplot(ax=axes[0], data=train['전용면적'], color='blue')\n",
    "axes[0].set_title('전용면적 분포')\n",
    "\n",
    "sns.boxplot(ax=axes[1], data=train['전용면적_log'], color='blue')\n",
    "axes[1].set_title('전용면적_log 분포')\n",
    "\n",
    "plt.show()"
   ]
  },
  {
   "cell_type": "code",
   "execution_count": 64,
   "id": "5fa83081",
   "metadata": {},
   "outputs": [
    {
     "data": {
      "text/plain": [
       "0.34772526509897794"
      ]
     },
     "execution_count": 64,
     "metadata": {},
     "output_type": "execute_result"
    }
   ],
   "source": [
    "#IQR을 적용하기 위해 q1, q3를 quantilte함수를 이용해 찾아내기.\n",
    "q1=train['전용면적_log'].quantile(0.25)\n",
    "q3=train['전용면적_log'].quantile(0.75)\n",
    "IQR=q3-q1\n",
    "IQR"
   ]
  },
  {
   "cell_type": "code",
   "execution_count": 67,
   "id": "78f37bfa",
   "metadata": {},
   "outputs": [
    {
     "data": {
      "text/html": [
       "<div>\n",
       "<style scoped>\n",
       "    .dataframe tbody tr th:only-of-type {\n",
       "        vertical-align: middle;\n",
       "    }\n",
       "\n",
       "    .dataframe tbody tr th {\n",
       "        vertical-align: top;\n",
       "    }\n",
       "\n",
       "    .dataframe thead th {\n",
       "        text-align: right;\n",
       "    }\n",
       "</style>\n",
       "<table border=\"1\" class=\"dataframe\">\n",
       "  <thead>\n",
       "    <tr style=\"text-align: right;\">\n",
       "      <th></th>\n",
       "      <th>시군구</th>\n",
       "      <th>단지명</th>\n",
       "      <th>전용면적</th>\n",
       "      <th>계약년월</th>\n",
       "      <th>거래금액(만원)</th>\n",
       "      <th>층</th>\n",
       "      <th>건축년도</th>\n",
       "      <th>도로명</th>\n",
       "      <th>전용면적_log</th>\n",
       "    </tr>\n",
       "  </thead>\n",
       "  <tbody>\n",
       "    <tr>\n",
       "      <th>211110</th>\n",
       "      <td>서울특별시 서초구 서초동</td>\n",
       "      <td>프레스턴-2(1506-42)</td>\n",
       "      <td>143.84</td>\n",
       "      <td>202006</td>\n",
       "      <td>150000</td>\n",
       "      <td>3</td>\n",
       "      <td>2006</td>\n",
       "      <td>명달로22길 89</td>\n",
       "      <td>4.975630</td>\n",
       "    </tr>\n",
       "    <tr>\n",
       "      <th>98357</th>\n",
       "      <td>서울특별시 광진구 광장동</td>\n",
       "      <td>현대홈타운12차</td>\n",
       "      <td>143.86</td>\n",
       "      <td>201910</td>\n",
       "      <td>168000</td>\n",
       "      <td>21</td>\n",
       "      <td>2004</td>\n",
       "      <td>천호대로 808</td>\n",
       "      <td>4.975768</td>\n",
       "    </tr>\n",
       "    <tr>\n",
       "      <th>17755</th>\n",
       "      <td>서울특별시 광진구 광장동</td>\n",
       "      <td>현대홈타운12차</td>\n",
       "      <td>143.86</td>\n",
       "      <td>201801</td>\n",
       "      <td>123000</td>\n",
       "      <td>6</td>\n",
       "      <td>2004</td>\n",
       "      <td>천호대로 808</td>\n",
       "      <td>4.975768</td>\n",
       "    </tr>\n",
       "    <tr>\n",
       "      <th>17754</th>\n",
       "      <td>서울특별시 광진구 광장동</td>\n",
       "      <td>현대홈타운12차</td>\n",
       "      <td>143.86</td>\n",
       "      <td>201801</td>\n",
       "      <td>122000</td>\n",
       "      <td>16</td>\n",
       "      <td>2004</td>\n",
       "      <td>천호대로 808</td>\n",
       "      <td>4.975768</td>\n",
       "    </tr>\n",
       "    <tr>\n",
       "      <th>98355</th>\n",
       "      <td>서울특별시 광진구 광장동</td>\n",
       "      <td>현대홈타운12차</td>\n",
       "      <td>143.86</td>\n",
       "      <td>201907</td>\n",
       "      <td>144000</td>\n",
       "      <td>21</td>\n",
       "      <td>2004</td>\n",
       "      <td>천호대로 808</td>\n",
       "      <td>4.975768</td>\n",
       "    </tr>\n",
       "    <tr>\n",
       "      <th>...</th>\n",
       "      <td>...</td>\n",
       "      <td>...</td>\n",
       "      <td>...</td>\n",
       "      <td>...</td>\n",
       "      <td>...</td>\n",
       "      <td>...</td>\n",
       "      <td>...</td>\n",
       "      <td>...</td>\n",
       "      <td>...</td>\n",
       "    </tr>\n",
       "    <tr>\n",
       "      <th>211093</th>\n",
       "      <td>서울특별시 서초구 서초동</td>\n",
       "      <td>트라움하우스3</td>\n",
       "      <td>273.86</td>\n",
       "      <td>202002</td>\n",
       "      <td>400000</td>\n",
       "      <td>5</td>\n",
       "      <td>2002</td>\n",
       "      <td>명달로 97-14</td>\n",
       "      <td>5.616262</td>\n",
       "    </tr>\n",
       "    <tr>\n",
       "      <th>49546</th>\n",
       "      <td>서울특별시 서초구 반포동</td>\n",
       "      <td>펠리체</td>\n",
       "      <td>283.76</td>\n",
       "      <td>201808</td>\n",
       "      <td>185000</td>\n",
       "      <td>5</td>\n",
       "      <td>2007</td>\n",
       "      <td>동광로27길 74</td>\n",
       "      <td>5.651647</td>\n",
       "    </tr>\n",
       "    <tr>\n",
       "      <th>72618</th>\n",
       "      <td>서울특별시 용산구 이촌동</td>\n",
       "      <td>정우</td>\n",
       "      <td>317.36</td>\n",
       "      <td>201810</td>\n",
       "      <td>157000</td>\n",
       "      <td>5</td>\n",
       "      <td>1972</td>\n",
       "      <td>이촌로54길 16</td>\n",
       "      <td>5.763183</td>\n",
       "    </tr>\n",
       "    <tr>\n",
       "      <th>232059</th>\n",
       "      <td>서울특별시 용산구 이촌동</td>\n",
       "      <td>정우</td>\n",
       "      <td>317.36</td>\n",
       "      <td>202007</td>\n",
       "      <td>150000</td>\n",
       "      <td>2</td>\n",
       "      <td>1972</td>\n",
       "      <td>이촌로54길 16</td>\n",
       "      <td>5.763183</td>\n",
       "    </tr>\n",
       "    <tr>\n",
       "      <th>51047</th>\n",
       "      <td>서울특별시 서초구 서초동</td>\n",
       "      <td>월드빌라트</td>\n",
       "      <td>395.06</td>\n",
       "      <td>201809</td>\n",
       "      <td>290000</td>\n",
       "      <td>10</td>\n",
       "      <td>1996</td>\n",
       "      <td>명달로16길 31-13</td>\n",
       "      <td>5.981566</td>\n",
       "    </tr>\n",
       "  </tbody>\n",
       "</table>\n",
       "<p>7976 rows × 9 columns</p>\n",
       "</div>"
      ],
      "text/plain": [
       "                  시군구              단지명    전용면적    계약년월  거래금액(만원)   층  건축년도  \\\n",
       "211110  서울특별시 서초구 서초동  프레스턴-2(1506-42)  143.84  202006    150000   3  2006   \n",
       "98357   서울특별시 광진구 광장동         현대홈타운12차  143.86  201910    168000  21  2004   \n",
       "17755   서울특별시 광진구 광장동         현대홈타운12차  143.86  201801    123000   6  2004   \n",
       "17754   서울특별시 광진구 광장동         현대홈타운12차  143.86  201801    122000  16  2004   \n",
       "98355   서울특별시 광진구 광장동         현대홈타운12차  143.86  201907    144000  21  2004   \n",
       "...               ...              ...     ...     ...       ...  ..   ...   \n",
       "211093  서울특별시 서초구 서초동          트라움하우스3  273.86  202002    400000   5  2002   \n",
       "49546   서울특별시 서초구 반포동              펠리체  283.76  201808    185000   5  2007   \n",
       "72618   서울특별시 용산구 이촌동               정우  317.36  201810    157000   5  1972   \n",
       "232059  서울특별시 용산구 이촌동               정우  317.36  202007    150000   2  1972   \n",
       "51047   서울특별시 서초구 서초동            월드빌라트  395.06  201809    290000  10  1996   \n",
       "\n",
       "                 도로명  전용면적_log  \n",
       "211110     명달로22길 89  4.975630  \n",
       "98357       천호대로 808  4.975768  \n",
       "17755       천호대로 808  4.975768  \n",
       "17754       천호대로 808  4.975768  \n",
       "98355       천호대로 808  4.975768  \n",
       "...              ...       ...  \n",
       "211093     명달로 97-14  5.616262  \n",
       "49546      동광로27길 74  5.651647  \n",
       "72618      이촌로54길 16  5.763183  \n",
       "232059     이촌로54길 16  5.763183  \n",
       "51047   명달로16길 31-13  5.981566  \n",
       "\n",
       "[7976 rows x 9 columns]"
      ]
     },
     "execution_count": 67,
     "metadata": {},
     "output_type": "execute_result"
    }
   ],
   "source": [
    "#boxplot에서 위아래쪽에 모두 이상치가 분포\n",
    "#q1, q3값을 이용해 분리 후 IQR_condition에 저장\n",
    "IQR_condition_q1=train['전용면적_log']<q1-1.5*IQR\n",
    "IQR_condition_q3=train['전용면적_log']>q3+1.5*IQR\n",
    "\n",
    "#q1 or q3 - 전용면적 오름차순 기준으로 이상치 데이터 확인하기\n",
    "train[IQR_condition_q3].sort_values(by=['전용면적_log'], axis=0)"
   ]
  },
  {
   "cell_type": "code",
   "execution_count": null,
   "id": "f6dd6d08",
   "metadata": {},
   "outputs": [],
   "source": []
  }
 ],
 "metadata": {
  "kernelspec": {
   "display_name": "Python 3",
   "language": "python",
   "name": "python3"
  },
  "language_info": {
   "codemirror_mode": {
    "name": "ipython",
    "version": 3
   },
   "file_extension": ".py",
   "mimetype": "text/x-python",
   "name": "python",
   "nbconvert_exporter": "python",
   "pygments_lexer": "ipython3",
   "version": "3.8.8"
  }
 },
 "nbformat": 4,
 "nbformat_minor": 5
}
